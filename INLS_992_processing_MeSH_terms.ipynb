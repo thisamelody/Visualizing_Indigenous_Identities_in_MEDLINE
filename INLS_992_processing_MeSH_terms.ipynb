{
 "cells": [
  {
   "cell_type": "markdown",
   "id": "f2b8fddb-0e9a-4a4c-9d47-ca45740c7533",
   "metadata": {},
   "source": [
    "27 March 2022"
   ]
  },
  {
   "cell_type": "markdown",
   "id": "7604f5e8-3c21-4ffa-aa65-48c7954e8ff2",
   "metadata": {},
   "source": [
    "Downloading necessary libraries\n",
    "Pandas = https://pandas.pydata.org/\n",
    "XLRD = https://xlrd.readthedocs.io/en/latest/\n",
    "OpenPYXL = https://openpyxl.readthedocs.io/en/stable/\n",
    "Collections = https://openpyxl.readthedocs.io/en/stable/"
   ]
  },
  {
   "cell_type": "code",
   "execution_count": 1,
   "id": "394298d0-ba73-433c-8002-c611c0cd637b",
   "metadata": {},
   "outputs": [
    {
     "name": "stdout",
     "output_type": "stream",
     "text": [
      "Requirement already satisfied: pandas in c:\\users\\aruvi\\appdata\\local\\programs\\python\\python39\\lib\\site-packages (1.4.1)\n",
      "Requirement already satisfied: python-dateutil>=2.8.1 in c:\\users\\aruvi\\appdata\\local\\programs\\python\\python39\\lib\\site-packages (from pandas) (2.8.2)\n",
      "Requirement already satisfied: numpy>=1.18.5 in c:\\users\\aruvi\\appdata\\local\\programs\\python\\python39\\lib\\site-packages (from pandas) (1.22.3)\n",
      "Requirement already satisfied: pytz>=2020.1 in c:\\users\\aruvi\\appdata\\local\\programs\\python\\python39\\lib\\site-packages (from pandas) (2021.3)\n",
      "Requirement already satisfied: six>=1.5 in c:\\users\\aruvi\\appdata\\local\\programs\\python\\python39\\lib\\site-packages (from python-dateutil>=2.8.1->pandas) (1.16.0)\n"
     ]
    }
   ],
   "source": [
    "!pip install pandas"
   ]
  },
  {
   "cell_type": "code",
   "execution_count": 2,
   "id": "4f07c397-899a-4a7f-91e8-74d7a5f56d03",
   "metadata": {},
   "outputs": [
    {
     "name": "stdout",
     "output_type": "stream",
     "text": [
      "Requirement already satisfied: xlrd in c:\\users\\aruvi\\appdata\\local\\programs\\python\\python39\\lib\\site-packages (2.0.1)\n"
     ]
    }
   ],
   "source": [
    "!pip install xlrd"
   ]
  },
  {
   "cell_type": "code",
   "execution_count": 3,
   "id": "50cf643f-75e9-49e3-875e-f73b669302d7",
   "metadata": {},
   "outputs": [
    {
     "name": "stdout",
     "output_type": "stream",
     "text": [
      "Requirement already satisfied: openpyxl in c:\\users\\aruvi\\appdata\\local\\programs\\python\\python39\\lib\\site-packages (3.0.9)\n",
      "Requirement already satisfied: et-xmlfile in c:\\users\\aruvi\\appdata\\local\\programs\\python\\python39\\lib\\site-packages (from openpyxl) (1.1.0)\n"
     ]
    }
   ],
   "source": [
    "!pip install openpyxl"
   ]
  },
  {
   "cell_type": "code",
   "execution_count": 4,
   "id": "498e5159-44a2-45de-af81-3ff578fda28f",
   "metadata": {},
   "outputs": [],
   "source": [
    "import pandas as pd\n",
    "import xlrd\n",
    "import collections\n",
    "import openpyxl"
   ]
  },
  {
   "cell_type": "markdown",
   "id": "9ccc2c1b-db0b-43c5-8f9b-34ee2a091bee",
   "metadata": {},
   "source": [
    "Reading the file of citations from Ovid"
   ]
  },
  {
   "cell_type": "code",
   "execution_count": 48,
   "id": "cc228a88-21f7-4a32-bc1d-1ae5a0f5572f",
   "metadata": {},
   "outputs": [],
   "source": [
    "full_citations = pd.read_excel(\"C:/Users/aruvi/Documents/INLS 992/citation.xls\")"
   ]
  },
  {
   "cell_type": "code",
   "execution_count": 49,
   "id": "18cc970e-f301-4173-9f2b-245e2035fc43",
   "metadata": {},
   "outputs": [
    {
     "data": {
      "text/html": [
       "<div>\n",
       "<style scoped>\n",
       "    .dataframe tbody tr th:only-of-type {\n",
       "        vertical-align: middle;\n",
       "    }\n",
       "\n",
       "    .dataframe tbody tr th {\n",
       "        vertical-align: top;\n",
       "    }\n",
       "\n",
       "    .dataframe thead th {\n",
       "        text-align: right;\n",
       "    }\n",
       "</style>\n",
       "<table border=\"1\" class=\"dataframe\">\n",
       "  <thead>\n",
       "    <tr style=\"text-align: right;\">\n",
       "      <th></th>\n",
       "      <th>ORN</th>\n",
       "      <th>VN</th>\n",
       "      <th>DB</th>\n",
       "      <th>UI</th>\n",
       "      <th>TI</th>\n",
       "      <th>SO</th>\n",
       "      <th>VI</th>\n",
       "      <th>RO</th>\n",
       "      <th>ST</th>\n",
       "      <th>AU</th>\n",
       "      <th>...</th>\n",
       "      <th>YR</th>\n",
       "      <th>FTURL</th>\n",
       "      <th>RN</th>\n",
       "      <th>CM</th>\n",
       "      <th>OA</th>\n",
       "      <th>PS</th>\n",
       "      <th>RS</th>\n",
       "      <th>OT</th>\n",
       "      <th>VD</th>\n",
       "      <th>OI</th>\n",
       "    </tr>\n",
       "  </thead>\n",
       "  <tbody>\n",
       "    <tr>\n",
       "      <th>0</th>\n",
       "      <td>1</td>\n",
       "      <td>Ovid Technologies</td>\n",
       "      <td>Ovid MEDLINE(R)</td>\n",
       "      <td>34161258</td>\n",
       "      <td>Helicobacter pylori's historical journey throu...</td>\n",
       "      <td>Proceedings of the National Academy of Science...</td>\n",
       "      <td>1</td>\n",
       "      <td>From MEDLINE, a database of the U.S. National ...</td>\n",
       "      <td>MEDLINE</td>\n",
       "      <td>Moodley Y\\n\\nBrunelli A\\n\\nGhirotto S\\n\\nKlyub...</td>\n",
       "      <td>...</td>\n",
       "      <td>2021</td>\n",
       "      <td>Click here for full text options</td>\n",
       "      <td>NaN</td>\n",
       "      <td>NaN</td>\n",
       "      <td>NaN</td>\n",
       "      <td>NaN</td>\n",
       "      <td>NaN</td>\n",
       "      <td>NaN</td>\n",
       "      <td>NaN</td>\n",
       "      <td>NaN</td>\n",
       "    </tr>\n",
       "    <tr>\n",
       "      <th>1</th>\n",
       "      <td>2</td>\n",
       "      <td>Ovid Technologies</td>\n",
       "      <td>Ovid MEDLINE(R)</td>\n",
       "      <td>33633342</td>\n",
       "      <td>Admixture/fine-mapping in Brazilians reveals a...</td>\n",
       "      <td>International Journal of Obesity. 45(5):1017-1...</td>\n",
       "      <td>1</td>\n",
       "      <td>From MEDLINE, a database of the U.S. National ...</td>\n",
       "      <td>MEDLINE</td>\n",
       "      <td>Scliar MO\\n\\nSant'Anna HP\\n\\nSantolalla ML\\n\\n...</td>\n",
       "      <td>...</td>\n",
       "      <td>2021</td>\n",
       "      <td>Click here for full text options</td>\n",
       "      <td>NaN</td>\n",
       "      <td>NaN</td>\n",
       "      <td>NaN</td>\n",
       "      <td>NaN</td>\n",
       "      <td>NaN</td>\n",
       "      <td>NaN</td>\n",
       "      <td>NaN</td>\n",
       "      <td>NaN</td>\n",
       "    </tr>\n",
       "    <tr>\n",
       "      <th>2</th>\n",
       "      <td>3</td>\n",
       "      <td>Ovid Technologies</td>\n",
       "      <td>Ovid MEDLINE(R)</td>\n",
       "      <td>34489406</td>\n",
       "      <td>A novel mouse model of PMS2 founder mutation t...</td>\n",
       "      <td>Cell Death &amp; Disease. 12(9):838, 2021 09 06.</td>\n",
       "      <td>1</td>\n",
       "      <td>From MEDLINE, a database of the U.S. National ...</td>\n",
       "      <td>MEDLINE</td>\n",
       "      <td>Biswas K\\n\\nCouillard M\\n\\nCavallone L\\n\\nBurk...</td>\n",
       "      <td>...</td>\n",
       "      <td>2021</td>\n",
       "      <td>Click here for full text options</td>\n",
       "      <td>0 (Adenomatous Polyposis Coli Protein)\\n\\n0 (M...</td>\n",
       "      <td>NaN</td>\n",
       "      <td>NaN</td>\n",
       "      <td>NaN</td>\n",
       "      <td>NaN</td>\n",
       "      <td>NaN</td>\n",
       "      <td>NaN</td>\n",
       "      <td>NaN</td>\n",
       "    </tr>\n",
       "    <tr>\n",
       "      <th>3</th>\n",
       "      <td>4</td>\n",
       "      <td>Ovid Technologies</td>\n",
       "      <td>Ovid MEDLINE(R)</td>\n",
       "      <td>34647390</td>\n",
       "      <td>Phylogenetic analysis of Myanmar indigenous ch...</td>\n",
       "      <td>Animal Science Journal. 92(1):e13647, 2021.</td>\n",
       "      <td>1</td>\n",
       "      <td>From MEDLINE, a database of the U.S. National ...</td>\n",
       "      <td>MEDLINE</td>\n",
       "      <td>Mon SLY\\n\\nLwin M\\n\\nMaw AA\\n\\nHtun LL\\n\\nBawm...</td>\n",
       "      <td>...</td>\n",
       "      <td>2021</td>\n",
       "      <td>Click here for full text options</td>\n",
       "      <td>0 (DNA, Mitochondrial)</td>\n",
       "      <td>NaN</td>\n",
       "      <td>NaN</td>\n",
       "      <td>NaN</td>\n",
       "      <td>NaN</td>\n",
       "      <td>NaN</td>\n",
       "      <td>NaN</td>\n",
       "      <td>NaN</td>\n",
       "    </tr>\n",
       "    <tr>\n",
       "      <th>4</th>\n",
       "      <td>5</td>\n",
       "      <td>Ovid Technologies</td>\n",
       "      <td>Ovid MEDLINE(R)</td>\n",
       "      <td>34347013</td>\n",
       "      <td>Blood DNA Methylation and Incident Coronary He...</td>\n",
       "      <td>JAMA Cardiology. 6(11):1237-1246, 2021 11 01.</td>\n",
       "      <td>1</td>\n",
       "      <td>From MEDLINE, a database of the U.S. National ...</td>\n",
       "      <td>MEDLINE</td>\n",
       "      <td>Navas-Acien A\\n\\nDomingo-Relloso A\\n\\nSubedi P...</td>\n",
       "      <td>...</td>\n",
       "      <td>2021</td>\n",
       "      <td>Click here for full text options</td>\n",
       "      <td>NaN</td>\n",
       "      <td>NaN</td>\n",
       "      <td>NaN</td>\n",
       "      <td>NaN</td>\n",
       "      <td>NaN</td>\n",
       "      <td>NaN</td>\n",
       "      <td>NaN</td>\n",
       "      <td>NaN</td>\n",
       "    </tr>\n",
       "  </tbody>\n",
       "</table>\n",
       "<p>5 rows × 28 columns</p>\n",
       "</div>"
      ],
      "text/plain": [
       "   ORN                 VN               DB        UI  \\\n",
       "0    1  Ovid Technologies  Ovid MEDLINE(R)  34161258   \n",
       "1    2  Ovid Technologies  Ovid MEDLINE(R)  33633342   \n",
       "2    3  Ovid Technologies  Ovid MEDLINE(R)  34489406   \n",
       "3    4  Ovid Technologies  Ovid MEDLINE(R)  34647390   \n",
       "4    5  Ovid Technologies  Ovid MEDLINE(R)  34347013   \n",
       "\n",
       "                                                  TI  \\\n",
       "0  Helicobacter pylori's historical journey throu...   \n",
       "1  Admixture/fine-mapping in Brazilians reveals a...   \n",
       "2  A novel mouse model of PMS2 founder mutation t...   \n",
       "3  Phylogenetic analysis of Myanmar indigenous ch...   \n",
       "4  Blood DNA Methylation and Incident Coronary He...   \n",
       "\n",
       "                                                  SO  VI  \\\n",
       "0  Proceedings of the National Academy of Science...   1   \n",
       "1  International Journal of Obesity. 45(5):1017-1...   1   \n",
       "2       Cell Death & Disease. 12(9):838, 2021 09 06.   1   \n",
       "3        Animal Science Journal. 92(1):e13647, 2021.   1   \n",
       "4      JAMA Cardiology. 6(11):1237-1246, 2021 11 01.   1   \n",
       "\n",
       "                                                  RO       ST  \\\n",
       "0  From MEDLINE, a database of the U.S. National ...  MEDLINE   \n",
       "1  From MEDLINE, a database of the U.S. National ...  MEDLINE   \n",
       "2  From MEDLINE, a database of the U.S. National ...  MEDLINE   \n",
       "3  From MEDLINE, a database of the U.S. National ...  MEDLINE   \n",
       "4  From MEDLINE, a database of the U.S. National ...  MEDLINE   \n",
       "\n",
       "                                                  AU  ...    YR  \\\n",
       "0  Moodley Y\\n\\nBrunelli A\\n\\nGhirotto S\\n\\nKlyub...  ...  2021   \n",
       "1  Scliar MO\\n\\nSant'Anna HP\\n\\nSantolalla ML\\n\\n...  ...  2021   \n",
       "2  Biswas K\\n\\nCouillard M\\n\\nCavallone L\\n\\nBurk...  ...  2021   \n",
       "3  Mon SLY\\n\\nLwin M\\n\\nMaw AA\\n\\nHtun LL\\n\\nBawm...  ...  2021   \n",
       "4  Navas-Acien A\\n\\nDomingo-Relloso A\\n\\nSubedi P...  ...  2021   \n",
       "\n",
       "                              FTURL  \\\n",
       "0  Click here for full text options   \n",
       "1  Click here for full text options   \n",
       "2  Click here for full text options   \n",
       "3  Click here for full text options   \n",
       "4  Click here for full text options   \n",
       "\n",
       "                                                  RN   CM   OA   PS   RS   OT  \\\n",
       "0                                                NaN  NaN  NaN  NaN  NaN  NaN   \n",
       "1                                                NaN  NaN  NaN  NaN  NaN  NaN   \n",
       "2  0 (Adenomatous Polyposis Coli Protein)\\n\\n0 (M...  NaN  NaN  NaN  NaN  NaN   \n",
       "3                             0 (DNA, Mitochondrial)  NaN  NaN  NaN  NaN  NaN   \n",
       "4                                                NaN  NaN  NaN  NaN  NaN  NaN   \n",
       "\n",
       "    VD   OI  \n",
       "0  NaN  NaN  \n",
       "1  NaN  NaN  \n",
       "2  NaN  NaN  \n",
       "3  NaN  NaN  \n",
       "4  NaN  NaN  \n",
       "\n",
       "[5 rows x 28 columns]"
      ]
     },
     "execution_count": 49,
     "metadata": {},
     "output_type": "execute_result"
    }
   ],
   "source": [
    "full_citations.head()"
   ]
  },
  {
   "cell_type": "markdown",
   "id": "1cd826e7-e40c-4d63-9d88-27a0d57f00f0",
   "metadata": {},
   "source": [
    "Isolating the column that contains the MeSH terms"
   ]
  },
  {
   "cell_type": "code",
   "execution_count": 50,
   "id": "e91bc10b-07a4-4d41-9794-d98b7f07205a",
   "metadata": {},
   "outputs": [],
   "source": [
    "MESH_column = full_citations['MH']"
   ]
  },
  {
   "cell_type": "markdown",
   "id": "41c49f0b-a1b6-4634-a8ed-06ea707aabff",
   "metadata": {},
   "source": [
    "Taking the cells in the column and putting them in a list"
   ]
  },
  {
   "cell_type": "code",
   "execution_count": 51,
   "id": "bfa83877-cfa1-4894-aa4c-60b9cbab5e7a",
   "metadata": {},
   "outputs": [],
   "source": [
    "all_terms = []"
   ]
  },
  {
   "cell_type": "code",
   "execution_count": 52,
   "id": "668de426-8bf8-49a6-aaf4-7f0a3d18e8ce",
   "metadata": {},
   "outputs": [],
   "source": [
    "for cell in MESH_column:\n",
    "    all_terms.append(cell)"
   ]
  },
  {
   "cell_type": "markdown",
   "id": "1006ac6c-69e3-4fbc-ab9d-7ab1f0c2ddf0",
   "metadata": {},
   "source": [
    "Splitting the list so that each term gets its own index"
   ]
  },
  {
   "cell_type": "code",
   "execution_count": 53,
   "id": "849f72a3-8673-4ae7-a528-65961877f4cc",
   "metadata": {},
   "outputs": [],
   "source": [
    "all_MESH = []"
   ]
  },
  {
   "cell_type": "code",
   "execution_count": 54,
   "id": "d298db40-b0c2-4909-bbe4-a45bf87cb2bf",
   "metadata": {},
   "outputs": [],
   "source": [
    "for item in all_terms:\n",
    "    item = item.split(\"\\n\\n\")\n",
    "    for line in item:\n",
    "        all_MESH.append(line)"
   ]
  },
  {
   "cell_type": "markdown",
   "id": "420888cd-e4ce-47e3-9114-14dd93bdb8d4",
   "metadata": {},
   "source": [
    "Creating a dictionary to count how many times each MeSH term appears"
   ]
  },
  {
   "cell_type": "code",
   "execution_count": 55,
   "id": "09f265a8-2330-41e6-a7ad-1fa9e4790a76",
   "metadata": {},
   "outputs": [],
   "source": [
    "MESH_dict = {}"
   ]
  },
  {
   "cell_type": "code",
   "execution_count": 56,
   "id": "1af25075-08b8-4f18-90a7-b666a5456aa2",
   "metadata": {},
   "outputs": [],
   "source": [
    "for line in all_MESH:\n",
    "    try:\n",
    "        MESH_dict[line] += 1\n",
    "    except KeyError:\n",
    "        MESH_dict[line] = 1"
   ]
  },
  {
   "cell_type": "markdown",
   "id": "6f0ca5f1-83a3-4831-8a32-c7691ae6fb88",
   "metadata": {},
   "source": [
    "Sorting the dictionary by number of occurrences"
   ]
  },
  {
   "cell_type": "code",
   "execution_count": 57,
   "id": "fb8de655-0598-41bb-a6fd-00ef6fe2c1d4",
   "metadata": {},
   "outputs": [],
   "source": [
    "ordered_MESH = collections.OrderedDict(sorted(MESH_dict.items(), key=lambda t: t[1]))"
   ]
  },
  {
   "cell_type": "markdown",
   "id": "9e20bd07-79a4-4fdf-a741-b1127bf80bdf",
   "metadata": {},
   "source": [
    "Exporting the dictionary to an Excel file"
   ]
  },
  {
   "cell_type": "code",
   "execution_count": 58,
   "id": "df483c85-ffc2-4658-ae09-00e945367acb",
   "metadata": {},
   "outputs": [],
   "source": [
    "export_MESH = pd.DataFrame(ordered_MESH.items())"
   ]
  },
  {
   "cell_type": "code",
   "execution_count": 59,
   "id": "f11a8139-421c-4432-9ba7-c3e1dd09c12b",
   "metadata": {
    "tags": []
   },
   "outputs": [],
   "source": [
    "export_MESH.to_excel(r'C:/Users/aruvi/Documents/INLS 992/MESH_term_frequency.xlsx',sheet_name=\"Frequencies\")"
   ]
  },
  {
   "cell_type": "markdown",
   "id": "901f8406-2007-48d1-9ca2-69113d09177b",
   "metadata": {},
   "source": [
    "Bonus: Preprocessing data further before returning it"
   ]
  },
  {
   "cell_type": "markdown",
   "id": "fcd1fdc8-5cd3-4065-93d6-26b95d0eab45",
   "metadata": {},
   "source": [
    "Removing asterisks and subheadings, putting subheadings in their own list"
   ]
  },
  {
   "cell_type": "code",
   "execution_count": 60,
   "id": "e4569a54-821d-41ef-aad5-e2ed40efa75f",
   "metadata": {},
   "outputs": [],
   "source": [
    "processed_MESH = []\n",
    "subheadings = []"
   ]
  },
  {
   "cell_type": "code",
   "execution_count": 61,
   "id": "5e3b62df-1db6-40bf-a5d5-1e9806fff8ef",
   "metadata": {
    "tags": []
   },
   "outputs": [],
   "source": [
    "for term in all_MESH:\n",
    "    new_term = term\n",
    "    if new_term[0] == \"*\":\n",
    "        new_term = new_term[1:len(new_term)]\n",
    "    if \"/\" in new_term:\n",
    "        MESH_term = new_term.split(\"/\")[0]\n",
    "        subheading = new_term.split(\"/\")[1]\n",
    "        subheadings.append(subheading)\n",
    "        new_term = MESH_term\n",
    "    processed_MESH.append(new_term)\n",
    "    \n",
    "       # new_term.split(\"\")\n",
    "      #  print(new_term)\n",
    "     #   slash_num = new_term.find(\"/\")\n",
    "      #  new_term = new_term[0:slash_num]\n",
    "      #  print(new_term[slash_num:])\n",
    "       # print(new_term[slash_num:len(new_term)])\n",
    "       # subheadings.append(new_term[slash_num:len(new_term)])"
   ]
  },
  {
   "cell_type": "markdown",
   "id": "0539c04d-f542-4794-a36b-d50f40fccd8b",
   "metadata": {},
   "source": [
    "Making new frequency dictionary"
   ]
  },
  {
   "cell_type": "code",
   "execution_count": 64,
   "id": "59375382-17a0-41b8-bf06-e4dd2cb400ee",
   "metadata": {},
   "outputs": [],
   "source": [
    "processed_MESH_dict = {}\n",
    "processed_subheadings = {}"
   ]
  },
  {
   "cell_type": "code",
   "execution_count": 72,
   "id": "302656a6-280b-42d8-b30f-acaff641c8e0",
   "metadata": {},
   "outputs": [],
   "source": [
    "for line in processed_MESH:\n",
    "    try:\n",
    "        processed_MESH_dict[line] += 1\n",
    "    except KeyError:\n",
    "        processed_MESH_dict[line] = 1\n",
    "        \n",
    "for line in subheadings:\n",
    "    try:\n",
    "        processed_subheadings[line] += 1\n",
    "    except KeyError:\n",
    "        processed_subheadings[line] = 1"
   ]
  },
  {
   "cell_type": "markdown",
   "id": "0a4c5c00-4cd1-435e-b63f-20178af296b1",
   "metadata": {},
   "source": [
    "Sorting by number of occurrences"
   ]
  },
  {
   "cell_type": "code",
   "execution_count": 73,
   "id": "565e4be9-b2f2-4f73-a5f5-c6746ad498d3",
   "metadata": {},
   "outputs": [],
   "source": [
    "processed_ordered_MESH = collections.OrderedDict(sorted(processed_MESH_dict.items(), key=lambda t: t[1]))\n",
    "processed_ordered_subheadings = collections.OrderedDict(sorted(processed_subheadings.items(), key=lambda t: t[1]))"
   ]
  },
  {
   "cell_type": "markdown",
   "id": "dd68af78-d1f7-4ad6-9228-b51d00a8f4cb",
   "metadata": {},
   "source": [
    "Exporting to Excel file"
   ]
  },
  {
   "cell_type": "code",
   "execution_count": 74,
   "id": "b9b0c688-d911-404d-81ca-d225814ab89c",
   "metadata": {},
   "outputs": [],
   "source": [
    "export_processed_MESH = pd.DataFrame(processed_ordered_MESH.items())\n",
    "export_processed_subheadings = pd.DataFrame(processed_ordered_subheadings.items())"
   ]
  },
  {
   "cell_type": "code",
   "execution_count": 75,
   "id": "1e1ad1fa-b1d0-431f-8385-ba482c1c50f0",
   "metadata": {},
   "outputs": [],
   "source": [
    "export_processed_MESH.to_excel(r'C:/Users/aruvi/Documents/INLS 992/MESH_term_frequency_processed.xlsx',sheet_name=\"Frequencies\")"
   ]
  },
  {
   "cell_type": "code",
   "execution_count": 76,
   "id": "8d40c856-d783-4589-9d2c-da2a0bd0998e",
   "metadata": {},
   "outputs": [],
   "source": [
    "export_processed_subheadings.to_excel(r'C:/Users/aruvi/Documents/INLS 992/MESH_subheadings_frequency_processed.xlsx',sheet_name=\"Frequencies\")"
   ]
  },
  {
   "cell_type": "markdown",
   "id": "8884fc2e-8a5e-4a6b-8b75-a5f7208e1fd3",
   "metadata": {},
   "source": [
    "Fin"
   ]
  }
 ],
 "metadata": {
  "kernelspec": {
   "display_name": "Python 3 (ipykernel)",
   "language": "python",
   "name": "python3"
  },
  "language_info": {
   "codemirror_mode": {
    "name": "ipython",
    "version": 3
   },
   "file_extension": ".py",
   "mimetype": "text/x-python",
   "name": "python",
   "nbconvert_exporter": "python",
   "pygments_lexer": "ipython3",
   "version": "3.9.6"
  }
 },
 "nbformat": 4,
 "nbformat_minor": 5
}
