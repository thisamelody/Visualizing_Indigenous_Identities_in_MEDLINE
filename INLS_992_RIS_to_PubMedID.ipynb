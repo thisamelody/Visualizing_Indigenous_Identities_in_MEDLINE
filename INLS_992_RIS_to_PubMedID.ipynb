{
 "cells": [
  {
   "cell_type": "markdown",
   "id": "c9cc573f",
   "metadata": {},
   "source": [
    "Allison Ruvidich\n",
    "INLS 992\n",
    "Data Preprocessing\n",
    "3 March 2022"
   ]
  },
  {
   "cell_type": "markdown",
   "id": "9b5516c4-bd56-46c3-a5ff-66659368bbbc",
   "metadata": {},
   "source": [
    "Extracting PubMed IDs from the RIS file that Covidence produced"
   ]
  },
  {
   "cell_type": "markdown",
   "id": "7130d38d-4171-462d-acf8-33361cf20a4a",
   "metadata": {},
   "source": [
    "Importing necessary libraries"
   ]
  },
  {
   "cell_type": "code",
   "execution_count": 1,
   "id": "1c665fba",
   "metadata": {},
   "outputs": [
    {
     "name": "stdout",
     "output_type": "stream",
     "text": [
      "Requirement already satisfied: pandas in c:\\users\\aruvi\\appdata\\local\\programs\\python\\python39\\lib\\site-packages (1.4.1)\n",
      "Requirement already satisfied: numpy>=1.18.5 in c:\\users\\aruvi\\appdata\\local\\programs\\python\\python39\\lib\\site-packages (from pandas) (1.22.3)\n",
      "Requirement already satisfied: python-dateutil>=2.8.1 in c:\\users\\aruvi\\appdata\\local\\programs\\python\\python39\\lib\\site-packages (from pandas) (2.8.2)\n",
      "Requirement already satisfied: pytz>=2020.1 in c:\\users\\aruvi\\appdata\\local\\programs\\python\\python39\\lib\\site-packages (from pandas) (2021.3)\n",
      "Requirement already satisfied: six>=1.5 in c:\\users\\aruvi\\appdata\\local\\programs\\python\\python39\\lib\\site-packages (from python-dateutil>=2.8.1->pandas) (1.16.0)\n"
     ]
    }
   ],
   "source": [
    "!pip install pandas"
   ]
  },
  {
   "cell_type": "code",
   "execution_count": 2,
   "id": "62b51bf0",
   "metadata": {},
   "outputs": [
    {
     "name": "stdout",
     "output_type": "stream",
     "text": [
      "Requirement already satisfied: rispy in c:\\users\\aruvi\\appdata\\local\\programs\\python\\python39\\lib\\site-packages (0.7.1)\n"
     ]
    }
   ],
   "source": [
    "!pip install rispy"
   ]
  },
  {
   "cell_type": "code",
   "execution_count": 3,
   "id": "2f1986ed-28b6-4923-9cf8-b9a1db636cd1",
   "metadata": {},
   "outputs": [],
   "source": [
    "import rispy, pandas"
   ]
  },
  {
   "cell_type": "markdown",
   "id": "4002b02d-01eb-44ff-88e1-7a88b88b9a7c",
   "metadata": {},
   "source": [
    "Opening and reading the RIS file"
   ]
  },
  {
   "cell_type": "code",
   "execution_count": 4,
   "id": "4bbed23b-4f60-4741-a00b-9c5c572d4525",
   "metadata": {},
   "outputs": [],
   "source": [
    "file = \"C:/Users/aruvi/Documents/INLS 992/review_198552_select_crs_20220226082426.ris\"\n",
    "article_list = open(file, 'r')"
   ]
  },
  {
   "cell_type": "markdown",
   "id": "cbf3c8d6-9968-42cf-91ed-c524da2767f5",
   "metadata": {},
   "source": [
    "Loading RIS headings"
   ]
  },
  {
   "cell_type": "code",
   "execution_count": 5,
   "id": "14f63c43-fc3b-482b-89dc-508b0adf2351",
   "metadata": {},
   "outputs": [],
   "source": [
    "entries = rispy.load(article_list)"
   ]
  },
  {
   "cell_type": "markdown",
   "id": "42484c24-7a7e-4d72-bc9b-643ebe2a7371",
   "metadata": {},
   "source": [
    "Collecting IDs"
   ]
  },
  {
   "cell_type": "code",
   "execution_count": 6,
   "id": "633a61d5-1a25-494b-8ede-42202f2a9e89",
   "metadata": {},
   "outputs": [],
   "source": [
    "id_list = []"
   ]
  },
  {
   "cell_type": "code",
   "execution_count": 7,
   "id": "93f6e69e-47a3-40d6-8175-86b5f663cdcf",
   "metadata": {},
   "outputs": [],
   "source": [
    "for line in entries:\n",
    "    id_list.append(line['id'])"
   ]
  },
  {
   "cell_type": "markdown",
   "id": "b424c759-130e-45fb-bd58-e8b5640323d4",
   "metadata": {},
   "source": [
    "Making into DataFrame"
   ]
  },
  {
   "cell_type": "code",
   "execution_count": 8,
   "id": "ef68cdf2-719b-4c0e-97fc-295d47fc3305",
   "metadata": {},
   "outputs": [],
   "source": [
    "list_data = pandas.DataFrame(id_list)"
   ]
  },
  {
   "cell_type": "markdown",
   "id": "d7e47739-c442-4fd5-8110-d897a5ffd8ea",
   "metadata": {},
   "source": [
    "Saving IDs to file"
   ]
  },
  {
   "cell_type": "code",
   "execution_count": 10,
   "id": "699f9e56-9750-4278-919b-04e68b4b2947",
   "metadata": {},
   "outputs": [],
   "source": [
    "list_data.to_csv('medline_ids.csv')"
   ]
  }
 ],
 "metadata": {
  "kernelspec": {
   "display_name": "Python 3 (ipykernel)",
   "language": "python",
   "name": "python3"
  },
  "language_info": {
   "codemirror_mode": {
    "name": "ipython",
    "version": 3
   },
   "file_extension": ".py",
   "mimetype": "text/x-python",
   "name": "python",
   "nbconvert_exporter": "python",
   "pygments_lexer": "ipython3",
   "version": "3.9.6"
  }
 },
 "nbformat": 4,
 "nbformat_minor": 5
}
